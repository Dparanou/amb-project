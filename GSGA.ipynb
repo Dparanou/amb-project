{
 "cells": [
  {
   "cell_type": "markdown",
   "metadata": {},
   "source": [
    "# Project for Algorithms in Molecular Biology"
   ]
  },
  {
   "cell_type": "code",
   "execution_count": 198,
   "metadata": {},
   "outputs": [],
   "source": [
    "import numpy as np\n",
    "import random\n",
    "import math\n",
    "from random import randint    "
   ]
  },
  {
   "cell_type": "code",
   "execution_count": 263,
   "metadata": {},
   "outputs": [],
   "source": [
    "IUPAC = {\n",
    "  'W' : [\"A\", \"T\"],\n",
    "  \"R\" : [\"A\", \"G\"],\n",
    "  \"K\" : [\"G\", \"T\"],\n",
    "  \"S\" : [\"G\", \"C\"],\n",
    "  \"Y\" : [\"T\", \"C\"],\n",
    "  \"M\" : [\"A\", \"C\"],\n",
    "  \"B\" : [\"G\", \"C\", \"T\"],\n",
    "  \"D\" : [\"G\", \"A\", \"T\"],\n",
    "  \"H\" : [\"C\", \"A\", \"T\"],\n",
    "  \"V\" : [\"C\", \"A\", \"G\"],\n",
    "  \"N\" : [\"C\", \"A\", \"G\", \"T\"],\n",
    "}\n",
    "\n",
    "IUPAC_bases = {\n",
    "  \"A\": [\"W\", \"R\", \"M\", \"D\", \"H\", \"V\", \"N\"],\n",
    "  \"C\": [\"S\", \"Y\", \"M\", \"B\", \"H\", \"V\", \"N\"],\n",
    "  \"G\": [\"R\", \"K\", \"S\", \"B\", \"D\", \"V\", \"N\"],\n",
    "  \"T\": [\"W\", \"K\", \"Y\", \"B\", \"D\", \"H\", \"N\"],\n",
    "}\n",
    "\n",
    "b_k = 0.25"
   ]
  },
  {
   "cell_type": "code",
   "execution_count": 200,
   "metadata": {},
   "outputs": [],
   "source": [
    "# convert string to list character-wise\n",
    "def ConvertStringToList(string):\n",
    "  list1=[]\n",
    "  list1[:0]=string\n",
    "  return list1"
   ]
  },
  {
   "cell_type": "code",
   "execution_count": 201,
   "metadata": {},
   "outputs": [],
   "source": [
    "def hammingDistance(str1, str2):\n",
    "  diffs = 0\n",
    "  for ch1, ch2 in zip(str1, str2):\n",
    "    if ch1 != ch2:\n",
    "      diffs += 1\n",
    "  return diffs"
   ]
  },
  {
   "cell_type": "code",
   "execution_count": 202,
   "metadata": {},
   "outputs": [],
   "source": [
    "def BuildFrequencies(motifs):\n",
    "\tk = len(motifs[0])\n",
    "\tfrequencies = [[0 for y in range(k)] for x in range(4)]\n",
    "\tfor count in range(k):\n",
    "\t\tA=0\n",
    "\t\tC=0\n",
    "\t\tG=0\n",
    "\t\tT=0\n",
    "\t\t\n",
    "\t\t# Add in Laplace counts to avoid\n",
    "\t\t# prob densities that are zero or one\n",
    "\t\t# accelerates alg runtime\n",
    "\t\t# A += 1\n",
    "\t\t# C += 1\n",
    "\t\t# G += 1\n",
    "\t\t# T += 1\n",
    "\t\tfor string in motifs:\n",
    "\t\t\tif string[count]=='A':\n",
    "\t\t\t\tA+=1\n",
    "\t\t\telif string[count]=='C':\n",
    "\t\t\t\tC+=1\n",
    "\t\t\telif string[count]=='G':\n",
    "\t\t\t\tG+=1\n",
    "\t\t\telif string[count]=='T':\n",
    "\t\t\t\tT+=1\n",
    "\t\t# Insert frequencies if base A\n",
    "\t\tfrequencies[0][count] = (float(A) + b_k)/(A+C+G+T+1)\n",
    "\t\t# Insert frequencies if base C\n",
    "\t\tfrequencies[1][count] = (float(C) + b_k)/(A+C+G+T+1)\n",
    "\t\t# Insert frequencies if base G\n",
    "\t\tfrequencies[2][count] = (float(G)+ b_k)/(A+C+G+T+1)\n",
    "\t\t# Insert frequencies if base T\n",
    "\t\tfrequencies[3][count] = (float(T) + b_k)/(A+C+G+T+1)\n",
    "\treturn frequencies"
   ]
  },
  {
   "cell_type": "code",
   "execution_count": 203,
   "metadata": {},
   "outputs": [],
   "source": [
    "def BuildPWM(frequencies):\n",
    "  pwm = [[0 for y in range(np.shape(frequencies)[1])] for x in range(4)]\n",
    "  for index1, prob in enumerate(frequencies):\n",
    "    for index2, j in enumerate(prob):\n",
    "       pwm[index1][index2] = math.log2(j/b_k)\n",
    "  \n",
    "  return pwm"
   ]
  },
  {
   "cell_type": "code",
   "execution_count": 204,
   "metadata": {},
   "outputs": [],
   "source": [
    "# Evalation function that calculate the similarity between pattern string and PWM\n",
    "def motif_evaluation(motif, frequencies_matrix, pwm):\n",
    "  sum = 0\n",
    "  for index, string in enumerate(motif):\n",
    "    if string=='A':\n",
    "      sum += frequencies_matrix[0][index]*pwm[0][index]\n",
    "    elif string=='C':\n",
    "      sum += frequencies_matrix[1][index]*pwm[1][index]\n",
    "    elif string=='G':\n",
    "      sum += frequencies_matrix[2][index]*pwm[2][index]\n",
    "    elif string=='T':\n",
    "      sum += frequencies_matrix[3][index]*pwm[3][index]\n",
    "      \n",
    "  return sum"
   ]
  },
  {
   "cell_type": "code",
   "execution_count": 205,
   "metadata": {},
   "outputs": [],
   "source": [
    "# Scoring function of possible motifs\n",
    "def scoring(motif, pwm):\n",
    "  sum = 0\n",
    "  for index, string in enumerate(motif):\n",
    "    if string=='A':\n",
    "      sum += pwm[0][index]\n",
    "    elif string=='C':\n",
    "      sum += pwm[1][index]\n",
    "    elif string=='G':\n",
    "      sum += pwm[2][index]\n",
    "    elif string=='T':\n",
    "      sum += pwm[3][index]\n",
    "  return sum"
   ]
  },
  {
   "cell_type": "code",
   "execution_count": 206,
   "metadata": {},
   "outputs": [],
   "source": [
    "def score(motifs):\n",
    "\tk = len(motifs[0])\n",
    "\tpattern = []\n",
    "\tfor i in range(k):\n",
    "\t\tA=0\n",
    "\t\tC=0\n",
    "\t\tG=0\n",
    "\t\tT=0\n",
    "\t\tfor string in motifs:\n",
    "\t\t\tif string[i]=='A':\n",
    "\t\t\t\tA+=1\n",
    "\t\t\telif string[i]=='C':\n",
    "\t\t\t\tC+=1\n",
    "\t\t\telif string[i]=='G':\n",
    "\t\t\t\tG+=1\n",
    "\t\t\telif string[i]=='T':\n",
    "\t\t\t\tT+=1\t\t\t\t\n",
    "\t\tif A >= C and A >= G and A >= T:\n",
    "\t\t\tpattern.append('A')\n",
    "\t\telif C >= G and C >= T:\n",
    "\t\t\tpattern.append('C')\n",
    "\t\telif G >= T:\n",
    "\t\t\tpattern.append('G')\n",
    "\t\telse:\n",
    "\t\t\tpattern.append('T')\n",
    "\n",
    "\tpattern = \"\".join(pattern)\n",
    " \t\t\t\n",
    "\tscore = 0\n",
    "\tfor string in motifs:\n",
    "\t\tscore += hammingDistance(string, pattern)\n",
    "\treturn score"
   ]
  },
  {
   "cell_type": "code",
   "execution_count": 214,
   "metadata": {},
   "outputs": [],
   "source": [
    "def next_population(motifs, dna, pwm):\n",
    "  k = len(motifs[0])\n",
    "\n",
    "  newMotifs = []\n",
    "  # Calculate probilities for each k-mer in Dna_i\n",
    "  for dna_string in dna:\n",
    "    scores = [0 for x in range(len(dna_string)-k+1)]\n",
    "    \n",
    "    for i in range(len(dna_string)-k+1):\n",
    "      # calculate the distances of each k-mer with\n",
    "      scores[i] = scoring(dna_string[i:i+k], pwm)\n",
    "\n",
    "    # set the threshold for selection\n",
    "    threshold = np.mean(scores)\n",
    "\n",
    "    for i in range(len(dna_string)-k+1):\n",
    "      if scores[i] > threshold: # the higher the score, the bigger the chance to be selected\n",
    "        newMotifs.append(dna_string[i:i+k])\n",
    "\n",
    "  return newMotifs   "
   ]
  },
  {
   "cell_type": "code",
   "execution_count": 262,
   "metadata": {},
   "outputs": [],
   "source": [
    "def selection(motifs_next_population, frequencies_matrix, pwm, len_of_motifs):\n",
    "  selected_motifs = []\n",
    "  scores = {}\n",
    "\n",
    "  for motif in motifs_next_population: \n",
    "    scores[motif] = motif_evaluation(motif, frequencies_matrix, pwm)\n",
    "  \n",
    "  # select 2m of next population with the higher scores\n",
    "  for _ in range(len_of_motifs*2):\n",
    "    selected_motifs.append(max(scores, key=scores.get))\n",
    "    del scores[max(scores, key=scores.get)]\n",
    "    \n",
    "  return selected_motifs"
   ]
  },
  {
   "cell_type": "code",
   "execution_count": 243,
   "metadata": {},
   "outputs": [],
   "source": [
    "def finalSelection(dna, k, pwm, frequencies):\n",
    "  motifs = []\n",
    "\n",
    "  # Calculate probilities for each k-mer in Dna_i\n",
    "  for index, dna_string in enumerate(dna):\n",
    "    scoring = [0 for x in range(len(dna_string)-k+1)]\n",
    "    \n",
    "    for i in range(len(dna_string)-k+1):\n",
    "      # calculate the score of each k-mer\n",
    "      scoring[i] = motif_evaluation(dna_string[i:i+k], frequencies, pwm)\n",
    "\n",
    "    # get the index of motif with the higher score\n",
    "    max_index = scoring.index(max(scoring))\n",
    "    motifs.append(dna_string[max_index:max_index+k])\n",
    "\n",
    "  return motifs\n",
    "  "
   ]
  },
  {
   "cell_type": "code",
   "execution_count": 210,
   "metadata": {},
   "outputs": [],
   "source": [
    "# crossover two parents to create two children\n",
    "def crossover(p1, p2):\n",
    "\t# children are copies of parents by default\n",
    "  # c1, c2 = p1.copy(), p2.copy()\n",
    "  # select crossover point that is not on the end of the string\n",
    "  pt = randint(1, len(p1)-2)\n",
    "  # perform crossover\n",
    "  c1 = p1[:pt] + p2[pt:]\n",
    "  c2 = p2[:pt] + p1[pt:]\n",
    "\n",
    "  return [c1, c2]"
   ]
  },
  {
   "cell_type": "code",
   "execution_count": 278,
   "metadata": {},
   "outputs": [],
   "source": [
    "def mutation(child):\n",
    "  child_arr = ConvertStringToList(child)\n",
    "  # get a random position to replace a base\n",
    "  ind = randint(0, len(child)-1)\n",
    "\n",
    "  # get a random position to get a char from IUPAC\n",
    "  i = randint(0, len(IUPAC_bases[child_arr[ind]]) - 1)\n",
    "  child_arr[ind] = IUPAC_bases[child[ind]][i]\n",
    "\n",
    "  s = \"\"\n",
    "  return s.join(child_arr) "
   ]
  },
  {
   "cell_type": "code",
   "execution_count": 281,
   "metadata": {},
   "outputs": [],
   "source": [
    "def GSGA(dna, k, N):\n",
    "  motifs = []\n",
    "  t = len(dna)\n",
    "\n",
    "  for strand in dna:\n",
    "    i = random.randrange(len(strand)-k+1)\n",
    "    substr = strand[i:i+k]\n",
    "    motifs.append(substr)\n",
    "\n",
    "  # best_motifs = motifs\n",
    "  # best_motifs_score = score(best_motifs)\n",
    "  frequencies_matrix = BuildFrequencies(motifs)\n",
    "  pwm = BuildPWM(frequencies_matrix)\n",
    "\n",
    "  for _ in range(1,N):\n",
    "    # motifsSelection = np.concatenate((best_motifs, selection(best_motifs, dna, frequences_matrix, pwm)))\n",
    "    motifs_next_population = next_population(motifs, dna, pwm)\n",
    "    motifs_selection = selection(motifs_next_population, frequencies_matrix, pwm, t)\n",
    "\n",
    "    # create the next generation\n",
    "    children = []\n",
    "    for i in range(0, len(motifs_selection), 2):\n",
    "      # get selected parents with mutation in pairs \n",
    "      p1, p2 = mutation(motifs_selection[i]), mutation(motifs_selection[i+1])\n",
    "      child_score = {}\n",
    "      # crossover\n",
    "      for c in crossover(p1, p2):\n",
    "        # evaluate the motif and add score to dictionary\n",
    "        child_score[c] = motif_evaluation(c, frequencies_matrix, pwm)\n",
    "      \n",
    "      # add the individual with higher score\n",
    "      children.append(max(child_score, key=child_score.get))\n",
    "\n",
    "    # build the new position weight matrix based on the new population\n",
    "    motifs = children\n",
    "    frequencies_matrix = BuildFrequencies(children)\n",
    "    pwm = BuildPWM(frequencies_matrix)\n",
    "\n",
    "    # if score(children) < best_motifs_score:\n",
    "    #   best_motifs = children\n",
    "    #   best_motifs_score = score(children)\n",
    "\n",
    "  final_motifs = finalSelection(dna, k, pwm, frequencies_matrix)\n",
    "\n",
    "  return [final_motifs, score(final_motifs)]"
   ]
  },
  {
   "cell_type": "code",
   "execution_count": 286,
   "metadata": {},
   "outputs": [
    {
     "name": "stdout",
     "output_type": "stream",
     "text": [
      "[['CAGTAACC', 'ATGTGTAA', 'AAGTATAC', 'AAGTTTCA', 'CAATGTTG'], 14]\n"
     ]
    }
   ],
   "source": [
    "kmer_length, N = 8, 2\n",
    "dna = ['CGCCCCTCTCGGGGGTGTTCAGTAACCGGCCA', 'GGGCGAGGTATGTGTAAGTGCCAAGGTGCCAG', 'TAGTACCGAGACCGAAAGAAGTATACAGGCGT', 'TAGATCAAGTTTCAGGTGCACGTCGGTGAACC','AATCCACCAGCTCCACGTGCAATGTTGGCCTA']\n",
    "best_motifs = [None, float('inf')]\n",
    "\n",
    "motifs = GSGA(dna, kmer_length, N)\n",
    "print(motifs)"
   ]
  },
  {
   "cell_type": "markdown",
   "metadata": {},
   "source": [
    "- TCTCGGGG\n",
    "- CCAAGGTG\n",
    "- TACAGGCG\n",
    "- TTCAGGTG\n",
    "- TCCACGTG"
   ]
  }
 ],
 "metadata": {
  "interpreter": {
   "hash": "31f2aee4e71d21fbe5cf8b01ff0e069b9275f58929596ceb00d14d90e3e16cd6"
  },
  "kernelspec": {
   "display_name": "Python 3.8.10 64-bit",
   "language": "python",
   "name": "python3"
  },
  "language_info": {
   "codemirror_mode": {
    "name": "ipython",
    "version": 3
   },
   "file_extension": ".py",
   "mimetype": "text/x-python",
   "name": "python",
   "nbconvert_exporter": "python",
   "pygments_lexer": "ipython3",
   "version": "3.8.10"
  },
  "orig_nbformat": 4
 },
 "nbformat": 4,
 "nbformat_minor": 2
}
