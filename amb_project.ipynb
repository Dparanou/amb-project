{
  "cells": [
    {
      "cell_type": "code",
      "execution_count": 2,
      "metadata": {},
      "outputs": [],
      "source": [
        "IUPAC = {\n",
        "  'W' : [\"A\", \"T\"],\n",
        "  \"R\" : [\"A\", \"G\"],\n",
        "  \"K\" : [\"G\", \"T\"],\n",
        "  \"S\" : [\"G\", \"C\"],\n",
        "  \"Y\" : [\"T\", \"C\"],\n",
        "  \"M\" : [\"A\", \"C\"],\n",
        "  \"B\" : [\"G\", \"C\", \"T\"],\n",
        "  \"D\" : [\"G\", \"A\", \"T\"],\n",
        "  \"H\" : [\"C\", \"A\", \"T\"],\n",
        "  \"V\" : [\"C\", \"A\", \"G\"],\n",
        "  \"N\" : [\"C\", \"A\", \"G\", \"T\"],\n",
        "}\n",
        "b_k = 0.25"
      ]
    },
    {
      "cell_type": "code",
      "execution_count": 3,
      "metadata": {
        "id": "U7sWv1F4FZai"
      },
      "outputs": [],
      "source": [
        "def BuildProfile(motif):\n",
        "\tk = len(motif[0])\n",
        "\tprofile = [[0 for y in range(k)] for x in range(4)]\n",
        "\tfor count in range(k):\n",
        "\t\tA=0\n",
        "\t\tC=0\n",
        "\t\tG=0\n",
        "\t\tT=0\n",
        "\t\t\n",
        "\t\t# Add in Laplace counts to avoid\n",
        "\t\t# prob densities that are zero or one\n",
        "\t\t# accelerates alg runtime\n",
        "\t\tA += 1\n",
        "\t\tC += 1\n",
        "\t\tG += 1\n",
        "\t\tT += 1\n",
        "\t\tfor string in motif:\n",
        "\t\t\tif string[count]=='A':\n",
        "\t\t\t\tA+=1\n",
        "\t\t\telif string[count]=='C':\n",
        "\t\t\t\tC+=1\n",
        "\t\t\telif string[count]=='G':\n",
        "\t\t\t\tG+=1\n",
        "\t\t\telif string[count]=='T':\n",
        "\t\t\t\tT+=1\n",
        "\t\t# Insert frequencies if base A\n",
        "\t\tprofile[0][count] = float(A)/(A+C+G+T)\n",
        "\t\t# Insert frequencies if base C\n",
        "\t\tprofile[1][count] = float(C)/(A+C+G+T)\n",
        "\t\t# Insert frequencies if base G\n",
        "\t\tprofile[2][count] = float(G)/(A+C+G+T)\n",
        "\t\t# Insert frequencies if base T\n",
        "\t\tprofile[3][count] = float(T)/(A+C+G+T)\n",
        "\treturn profile"
      ]
    },
    {
      "cell_type": "code",
      "execution_count": 4,
      "metadata": {
        "id": "5s5mzU29Wjdf"
      },
      "outputs": [],
      "source": [
        "def singleReplacementMotif(motifs, dna_i):\n",
        "  k = len(motifs[0])\n",
        "  profile = BuildProfile(motifs)\n",
        "  # pwm = BuildProfile(motifs)\n",
        "\n",
        "  # Calculate probilities for each k-mer in Dna_i\n",
        "  kmerDensities = [0 for x in range(len(dna_i)-k+1)]\n",
        "  for i in range(len(dna_i)-k+1):\n",
        "    prob = 1\n",
        "    s = 0\n",
        "    for j in range(k):\n",
        "      if dna_i[i+j] == 'A':\n",
        "        prob *= profile[0][j]\n",
        "        # s += pwm[0][j]\n",
        "      elif dna_i[i+j] == 'C':\n",
        "        prob *= profile[1][j]\n",
        "        # s += pwm[1][j]\n",
        "      elif dna_i[i+j] == 'G':\n",
        "        prob *= profile[2][j]\n",
        "        # s += pwm[2][j]\n",
        "      elif dna_i[i+j] == 'T':\n",
        "        prob *= profile[3][j]\n",
        "        # s += pwm[2][j]\n",
        "    kmerDensities[i] = prob\n",
        "\n",
        "  # normalize probabilities\n",
        "  normalizationTot = sum(kmerDensities)\n",
        "\n",
        "  for i in range(len(dna_i)-k+1):\n",
        "    kmerDensities[i] = kmerDensities[i]/normalizationTot\n",
        "  \n",
        "  # construct prefix sum for lookup\t\t\n",
        "  kmerDensities = list(accumulate(kmerDensities))\n",
        "\n",
        "  # randomly select a k-mer\n",
        "  randVal = random.random()\n",
        "  \n",
        "  for i in range(len(dna_i)-k+1):\n",
        "    if randVal < kmerDensities[i]:\n",
        "      break\n",
        "  replacementKmer = dna_i[i:i+k]\n",
        "  \n",
        "  # max_index = kmerDensities.index(max(kmerDensities))\n",
        "  # replacementKmer = dna_i[max_index:max_index+k]\n",
        "\n",
        "  return replacementKmer"
      ]
    },
    {
      "cell_type": "code",
      "execution_count": 5,
      "metadata": {
        "id": "IkfZK7tnXGh7"
      },
      "outputs": [],
      "source": [
        "def accumulate(iterable, func=operator.add):\n",
        "\t# accumulate([1,2,3,4,5]) --> 1 3 6 10 15\n",
        "\t# accumulate([1,2,3,4,5], operator.mul) --> 1 2 6 24 120\n",
        "\tit = iter(iterable)\n",
        "\ttry:\n",
        "\t\ttotal = next(it)\n",
        "\texcept StopIteration:\n",
        "\t\treturn\n",
        "\tyield total\n",
        "\tfor element in it:\n",
        "\t\ttotal = func(total, element)\n",
        "\t\tyield total"
      ]
    },
    {
      "cell_type": "code",
      "execution_count": 6,
      "metadata": {
        "id": "5UVSqAOJRPw8"
      },
      "outputs": [],
      "source": [
        "def hammingDistance(str1, str2):\n",
        "  diffs = 0\n",
        "  for ch1, ch2 in zip(str1, str2):\n",
        "    if ch1 != ch2:\n",
        "      diffs += 1\n",
        "  return diffs"
      ]
    },
    {
      "cell_type": "code",
      "execution_count": 7,
      "metadata": {
        "id": "WiA4NhI3H7VM"
      },
      "outputs": [],
      "source": [
        "def score(motifs):\n",
        "\tk = len(motifs[0])\n",
        "\tpattern = []\n",
        "\tfor i in range(k):\n",
        "\t\tA=0\n",
        "\t\tC=0\n",
        "\t\tG=0\n",
        "\t\tT=0\n",
        "\t\tfor string in motifs:\n",
        "\t\t\tif string[i]=='A':\n",
        "\t\t\t\tA+=1\n",
        "\t\t\telif string[i]=='C':\n",
        "\t\t\t\tC+=1\n",
        "\t\t\telif string[i]=='G':\n",
        "\t\t\t\tG+=1\n",
        "\t\t\telif string[i]=='T':\n",
        "\t\t\t\tT+=1\t\t\t\t\n",
        "\t\tif A >= C and A >= G and A >= T:\n",
        "\t\t\tpattern.append('A')\n",
        "\t\telif C >= G and C >= T:\n",
        "\t\t\tpattern.append('C')\n",
        "\t\telif G >= T:\n",
        "\t\t\tpattern.append('G')\n",
        "\t\telse:\n",
        "\t\t\tpattern.append('T')\n",
        "\n",
        "\tpattern = \"\".join(pattern)\n",
        " \t\t\t\n",
        "\tscore = 0\n",
        "\tfor string in motifs:\n",
        "\t\tscore += hammingDistance(string, pattern)\n",
        "\treturn score"
      ]
    },
    {
      "cell_type": "code",
      "execution_count": 8,
      "metadata": {
        "id": "t-uaeEYcIAAK"
      },
      "outputs": [],
      "source": [
        "def GibbsSampler(dna, k, N):  \n",
        "  Motifs = []\n",
        "  t = len(dna)\n",
        "\n",
        "  for strand in dna:\n",
        "    i = random.randrange(len(strand)-k+1)\n",
        "    substr = strand[i:i+k]\n",
        "    Motifs.append(substr)\n",
        "\n",
        "  bestMotifs = Motifs\n",
        "  bestMotifsScore = score(bestMotifs)\n",
        "\n",
        "  for j in range(1,N):\n",
        "    i = random.randrange(t)\n",
        "    subsetMotifs = Motifs[0:i]+Motifs[i+1:t]\n",
        "    replacementMotif = singleReplacementMotif(subsetMotifs, dna[i])\n",
        "    Motifs[i] = replacementMotif\n",
        "\n",
        "    if score(Motifs) < bestMotifsScore:\n",
        "      bestMotifs = list(Motifs)\n",
        "      bestMotifsScore = score(bestMotifs)\n",
        "  return [bestMotifs, bestMotifsScore]"
      ]
    },
    {
      "cell_type": "code",
      "execution_count": 9,
      "metadata": {
        "colab": {
          "base_uri": "https://localhost:8080/"
        },
        "id": "ofhuiHs2JbAl",
        "outputId": "589f9ff1-c9a1-40e2-edf8-34032d96614c"
      },
      "outputs": [
        {
          "name": "stdout",
          "output_type": "stream",
          "text": [
            "[['TCTCGGGG', 'CCAAGGTG', 'TACAGGCG', 'TTCAGGTG', 'TCCACGTG'], 9]\n"
          ]
        }
      ],
      "source": [
        "kmer_length, N = 8, 200\n",
        "dna = ['CGCCCCTCTCGGGGGTGTTCAGTAACCGGCCA', 'GGGCGAGGTATGTGTAAGTGCCAAGGTGCCAG', 'TAGTACCGAGACCGAAAGAAGTATACAGGCGT', 'TAGATCAAGTTTCAGGTGCACGTCGGTGAACC','AATCCACCAGCTCCACGTGCAATGTTGGCCTA']\n",
        "best_motifs = [None, float('inf')]\n",
        "\n",
        "# Repeat the Gibbs sampler search 20 times.\n",
        "for repeat in range(20):\n",
        "  current_motifs = GibbsSampler(dna, kmer_length, N)\n",
        "  # print(current_motifs)\n",
        "  if current_motifs[1] < best_motifs[1]:\n",
        "      best_motifs = current_motifs\n",
        "#Print and save the answer.\n",
        "#print ('\\n'.join(best_motifs[1])) \n",
        "print(best_motifs)           "
      ]
    },
    {
      "cell_type": "markdown",
      "metadata": {},
      "source": [
        "- TCTCGGGG\n",
        "- CCAAGGTG\n",
        "- TACAGGCG\n",
        "- TTCAGGTG\n",
        "- TCCACGTG"
      ]
    }
  ],
  "metadata": {
    "colab": {
      "name": "amb-project.ipynb",
      "provenance": []
    },
    "interpreter": {
      "hash": "916dbcbb3f70747c44a77c7bcd40155683ae19c65e1c03b4aa3499c5328201f1"
    },
    "kernelspec": {
      "display_name": "Python 3.8.10 64-bit",
      "language": "python",
      "name": "python3"
    },
    "language_info": {
      "codemirror_mode": {
        "name": "ipython",
        "version": 3
      },
      "file_extension": ".py",
      "mimetype": "text/x-python",
      "name": "python",
      "nbconvert_exporter": "python",
      "pygments_lexer": "ipython3",
      "version": "3.8.10"
    }
  },
  "nbformat": 4,
  "nbformat_minor": 0
}
